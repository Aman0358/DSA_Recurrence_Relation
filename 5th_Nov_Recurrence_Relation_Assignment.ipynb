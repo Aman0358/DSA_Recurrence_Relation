{
 "cells": [
  {
   "cell_type": "code",
   "execution_count": 7,
   "id": "ac41dce3-0297-4b72-a4ab-4de538bba901",
   "metadata": {},
   "outputs": [
    {
     "name": "stdout",
     "output_type": "stream",
     "text": [
      "Value of T(2): 105\n"
     ]
    }
   ],
   "source": [
    "# Find the value of T(2) for the recurrence relation T(n) = 3T(n-1) + 12n, given that T(0)=5.\n",
    "def recurrence_relation(n):\n",
    "    # Base case\n",
    "    if n == 0:\n",
    "        return 5\n",
    "    \n",
    "    # Recurrence relation: T(n) = 3T(n-1) + 12n\n",
    "    return 3 * recurrence_relation(n - 1) + 12 * n\n",
    "\n",
    "# Calculate T(2)\n",
    "result = recurrence_relation(2)\n",
    "\n",
    "print(\"Value of T(2):\", result)\n"
   ]
  },
  {
   "cell_type": "code",
   "execution_count": 2,
   "id": "419738a7-5602-4f2d-af78-e299b8a91423",
   "metadata": {},
   "outputs": [
    {
     "name": "stdout",
     "output_type": "stream",
     "text": [
      "T(5) = 15\n"
     ]
    }
   ],
   "source": [
    "# 2.Given a recurrence relation, solve it using the substitution method:\n",
    "# a. T(n) = T(n-1) + c\n",
    "def solve_recurrence(n, c):\n",
    "    # Base case\n",
    "    if n == 0:\n",
    "        return 0\n",
    "\n",
    "    # Use substitution method: T(n) = T(n-1) + c\n",
    "    return solve_recurrence(n-1, c) + c\n",
    "\n",
    "# Example usage:\n",
    "n_value = 5\n",
    "c_value = 3\n",
    "result = solve_recurrence(n_value, c_value)\n",
    "\n",
    "print(f'T({n_value}) = {result}')\n",
    "\n"
   ]
  },
  {
   "cell_type": "code",
   "execution_count": 2,
   "id": "08864a33-8186-40f3-90b2-8651480fff15",
   "metadata": {},
   "outputs": [
    {
     "name": "stdout",
     "output_type": "stream",
     "text": [
      "T(8) = 32\n"
     ]
    }
   ],
   "source": [
    "# b. T(n) = 2T(n/2) + n\n",
    "def solve_recurrence(n):\n",
    "    # Base case\n",
    "    if n == 1:\n",
    "        return 1\n",
    "\n",
    "    # Assumed solution: T(n) = a * n + b\n",
    "    return 2 * solve_recurrence(n // 2) + n\n",
    "\n",
    "# Example usage\n",
    "n_value = 8\n",
    "result = solve_recurrence(n_value)\n",
    "\n",
    "print(f'T({n_value}) = {result}')\n"
   ]
  },
  {
   "cell_type": "code",
   "execution_count": 3,
   "id": "7f537e72-bdd2-4b85-ab6b-b37f7e6d9833",
   "metadata": {},
   "outputs": [
    {
     "name": "stdout",
     "output_type": "stream",
     "text": [
      "T(8) = 45\n"
     ]
    }
   ],
   "source": [
    "# c. T(n) = 2T(n/2) + c\n",
    "def solve_recurrence(n, c):\n",
    "    # Base case\n",
    "    if n == 1:\n",
    "        return c\n",
    "\n",
    "    # Assumed solution: T(n) = a * n + b\n",
    "    return 2 * solve_recurrence(n // 2, c) + c\n",
    "\n",
    "# Example usage\n",
    "n_value = 8\n",
    "c_value = 3\n",
    "result = solve_recurrence(n_value, c_value)\n",
    "\n",
    "print(f'T({n_value}) = {result}')\n"
   ]
  },
  {
   "cell_type": "code",
   "execution_count": 4,
   "id": "6b4c379c-38d7-4f0e-be09-d5f60ff68b25",
   "metadata": {},
   "outputs": [
    {
     "name": "stdout",
     "output_type": "stream",
     "text": [
      "T(8) = 12\n"
     ]
    }
   ],
   "source": [
    "# d. T(n) = T(n/2) + c\n",
    "import math\n",
    "\n",
    "def solve_recurrence(n, c):\n",
    "    # Base case\n",
    "    if n == 1:\n",
    "        return c\n",
    "\n",
    "    # Assumed solution: T(n) = a * log2(n) + b\n",
    "    return solve_recurrence(n // 2, c) + c\n",
    "\n",
    "# Example usage\n",
    "n_value = 8\n",
    "c_value = 3\n",
    "result = solve_recurrence(n_value, c_value)\n",
    "\n",
    "print(f'T({n_value}) = {result}')\n"
   ]
  },
  {
   "cell_type": "code",
   "execution_count": 5,
   "id": "88bf302a-7914-4201-8562-c9648b2b8624",
   "metadata": {
    "tags": []
   },
   "outputs": [
    {
     "data": {
      "image/png": "[encoded data removed]",
      "text/plain": [
       "<Figure size 640x480 with 1 Axes>"
      ]
     },
     "metadata": {},
     "output_type": "display_data"
    }
   ],
   "source": [
    "# 3. Given a recurrence relation, solve it using the recursive tree approach:\n",
    "# a. T(n) = 2T(n-1) +1\n",
    "import matplotlib.pyplot as plt\n",
    "import networkx as nx\n",
    "\n",
    "def recursive_tree(n, G=None, parent=None):\n",
    "    if G is None:\n",
    "        G = nx.Graph()\n",
    "        \n",
    "    if n == 0:\n",
    "        G.add_node(\"T(0)\", label=\"1\")\n",
    "        return G\n",
    "    \n",
    "    current_node = f\"T({n})\"\n",
    "    G.add_node(current_node, label=\"2\" + current_node[1:])\n",
    "    \n",
    "    if parent is not None:\n",
    "        G.add_edge(parent, current_node)\n",
    "    \n",
    "    G = recursive_tree(n-1, G, current_node)\n",
    "    G = recursive_tree(n-1, G, current_node)\n",
    "    \n",
    "    return G\n",
    "\n",
    "# Example usage\n",
    "n_value = 3\n",
    "G = recursive_tree(n_value)\n",
    "\n",
    "pos = nx.spring_layout(G)\n",
    "labels = nx.get_node_attributes(G, 'label')\n",
    "nx.draw(G, pos, with_labels=True, labels=labels, node_size=3000, font_size=8, font_color='white', font_weight='bold')\n",
    "plt.show()\n"
   ]
  },
  {
   "cell_type": "code",
   "execution_count": 6,
   "id": "5abae1f0-315a-40f0-add6-4b1958793c51",
   "metadata": {},
   "outputs": [
    {
     "data": {
      "image/png": "[encoded data removed]",
      "text/plain": [
       "<Figure size 640x480 with 1 Axes>"
      ]
     },
     "metadata": {},
     "output_type": "display_data"
    }
   ],
   "source": [
    "# b. T(n) = 2T(n/2) + n\n",
    "import matplotlib.pyplot as plt\n",
    "import networkx as nx\n",
    "\n",
    "def recursive_tree(n, G=None, parent=None):\n",
    "    if G is None:\n",
    "        G = nx.Graph()\n",
    "\n",
    "    if n == 0:\n",
    "        G.add_node(\"T(0)\", label=\"n\")\n",
    "        return G\n",
    "\n",
    "    current_node = f\"T({n})\"\n",
    "    G.add_node(current_node, label=f\"{n} + 2T({n//2})\")\n",
    "\n",
    "    if parent is not None:\n",
    "        G.add_edge(parent, current_node)\n",
    "\n",
    "    G = recursive_tree(n // 2, G, current_node)\n",
    "    G = recursive_tree(n // 2, G, current_node)\n",
    "\n",
    "    return G\n",
    "\n",
    "# Example usage\n",
    "n_value = 4\n",
    "G = recursive_tree(n_value)\n",
    "\n",
    "pos = nx.spring_layout(G)\n",
    "labels = nx.get_node_attributes(G, 'label')\n",
    "nx.draw(G, pos, with_labels=True, labels=labels, node_size=3000, font_size=8, font_color='white', font_weight='bold')\n",
    "plt.show()\n"
   ]
  },
  {
   "cell_type": "code",
   "execution_count": null,
   "id": "24e95038-9227-4fb3-b65c-7dd9ac3051ee",
   "metadata": {},
   "outputs": [],
   "source": []
  }
 ],
 "metadata": {
  "kernelspec": {
   "display_name": "Python 3 (ipykernel)",
   "language": "python",
   "name": "python3"
  },
  "language_info": {
   "codemirror_mode": {
    "name": "ipython",
    "version": 3
   },
   "file_extension": ".py",
   "mimetype": "text/x-python",
   "name": "python",
   "nbconvert_exporter": "python",
   "pygments_lexer": "ipython3",
   "version": "3.10.8"
  }
 },
 "nbformat": 4,
 "nbformat_minor": 5
}
